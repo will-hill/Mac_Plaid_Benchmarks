{
 "cells": [
  {
   "cell_type": "markdown",
   "metadata": {},
   "source": [
    "# Analyzing MacBook GPU Performance; visualizing with MLflow and Elastic Kibana\n",
    "### A comparison of the various MacBook PlaidML configurations for accelerating Deep Learning with AMD GPU, Intel UHD, and Intel CPU; visualized with Databricks MLflow and with Elastic Kibana."
   ]
  },
  {
   "cell_type": "markdown",
   "metadata": {},
   "source": [
    "I have an article on Medium.com come giving a full explanation of the code:  \n",
    "https://towardsdatascience.com/analyzing-macbook-gpu-performance-visualizing-with-mlflow-and-elastic-kibana-40e7bc494260  \n",
    "![kibana_dashboard](media/kibana_dashboard.gif)"
   ]
  },
  {
   "cell_type": "markdown",
   "metadata": {},
   "source": [
    "# my inspiration for this little project...\n",
    "A viewer commented on my YouTube video demonstrating how to enable AMD GPU acceleration for Keras on a MacBook."
   ]
  },
  {
   "cell_type": "markdown",
   "metadata": {},
   "source": [
    "[![MacBook GPU Programming](https://img.youtube.com/vi/xwN5hQG5IRE/0.jpg)](https://youtu.be/xwN5hQG5IRE \"MacBook GPU Python Programming\")"
   ]
  },
  {
   "cell_type": "markdown",
   "metadata": {},
   "source": [
    "DavidVilla147BVB, you are correct!"
   ]
  },
  {
   "cell_type": "markdown",
   "metadata": {},
   "source": [
    "![very true](media/youtube_comment.png)"
   ]
  }
 ],
 "metadata": {
  "kernelspec": {
   "display_name": "Python 3",
   "language": "python",
   "name": "python3"
  },
  "language_info": {
   "codemirror_mode": {
    "name": "ipython",
    "version": 3
   },
   "file_extension": ".py",
   "mimetype": "text/x-python",
   "name": "python",
   "nbconvert_exporter": "python",
   "pygments_lexer": "ipython3",
   "version": "3.8.2"
  }
 },
 "nbformat": 4,
 "nbformat_minor": 4
}
